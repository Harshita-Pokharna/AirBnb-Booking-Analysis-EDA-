{
  "nbformat": 4,
  "nbformat_minor": 0,
  "metadata": {
    "colab": {
      "provenance": [],
      "authorship_tag": "ABX9TyPaeMBpwhxZJTa0VctMu9XH",
      "include_colab_link": true
    },
    "kernelspec": {
      "name": "python3",
      "display_name": "Python 3"
    },
    "language_info": {
      "name": "python"
    }
  },
  "cells": [
    {
      "cell_type": "markdown",
      "metadata": {
        "id": "view-in-github",
        "colab_type": "text"
      },
      "source": [
        "<a href=\"https://colab.research.google.com/github/Harshita-Pokharna/CAPSTONE-PROJECT-1--AirBnb-Booking-Analysis/blob/main/CAPSTONE_PROJECT_No_1_AirBnb_Bookings_Analysis.ipynb\" target=\"_parent\"><img src=\"https://colab.research.google.com/assets/colab-badge.svg\" alt=\"Open In Colab\"/></a>"
      ]
    },
    {
      "cell_type": "markdown",
      "source": [
        "#**Project Name - Airbnb Bookings Analysis**\n",
        "\n",
        "##**Project Type - Exploratory Data Analysis (EDA)**\n",
        "\n",
        "##**Contribution - Individual**\n",
        "\n",
        "##**Name - Harshita Pokharna**"
      ],
      "metadata": {
        "id": "1ZoVmAtE95UI"
      }
    },
    {
      "cell_type": "markdown",
      "source": [
        "# **Project Summary -**"
      ],
      "metadata": {
        "id": "VD_Bh5-t9_hf"
      }
    },
    {
      "cell_type": "markdown",
      "source": [
        "**Airbnb**, a global online marketplace for lodging and tourism experiences, has transformed the way people travel and find accommodations. By providing a platform for individuals to rent out their properties or spare rooms to travelers, Airbnb has created a vast network of lodging options worldwide. Analyzing Airbnb NYC 2019 booking data can offer valuable insights into travel trends, preferences, and market dynamics. In this project, we  explored following key findings from the analysis of Airbnb booking data:\n",
        "\n",
        "* **Dataset Description**: The project begins with an overview of the Airbnb booking dataset, including information on variables such as listing attributes, booking dates, pricing, location details, and guest reviews.\n",
        "\n",
        "* **Data Cleaning and Preprocessing**: Data cleaning and preprocessing are essential steps in preparing the dataset for analysis. This involves handling missing values, removing duplicates, addressing outliers, and formatting data types to ensure data integrity and consistency.Through this process, we were able to identify and fix any issues with the data, and ensure that it was ready for further analysis. This is an important step in any data analysis project, as it allows us to work with high-quality data and avoid any potential biases or errors that could affect the results.\n",
        "\n",
        "* **Data Visualization and Storytelling**: Data visualization plays a crucial role in conveying insights effectively to stakeholders. Visualizations such as charts, graphs, maps, are utilized to present key findings, trends, and patterns in a visually compelling and interpretable manner.Through this process, we were able to uncover trends and relationships in the data that would have been difficult to identify through raw data alone.\n",
        "I covered following topics under these visualizations:\n",
        " * **Property Type Preferences and Pricing Analysis**: Analysis of property types and their popularity among travelers sheds light on accommodation preferences, such as entire homes, apartments, private rooms, or shared rooms. Pricing analysis investigates average nightly rates, and the impact of factors like property amenities and location on pricing strategies.\n",
        "\n",
        " * **Host Attributes**:Popular hosts attract more bookings due to their reliability and positive reviews.\n",
        "\n",
        " *  **Geographic Analysis**: Geographic analysis examines the distribution of Airbnb listings and bookings across different regions and neighbourhoods. Visualization techniques such as maps, bar charts, and heatmaps are utilized to illustrate geographical patterns and hotspots of activity.\n",
        "\n",
        "  * **Trends and Booking Patterns**: Trends in Airbnb bookings are explored to understand peak booking periods, seasonal variations in demand, and popular travel seasons. Though here I did Analysis of booking patterns, including  Stay Requirement counts by Minimum Nights, which provides insights into traveler behavior and preferences.\n",
        "\n",
        " *  **Reviews and Ratings Analysis**: Examination of guest reviews and ratings delves into the guest experience, satisfaction levels, and factors contributing to positive or negative reviews.\n",
        "\n",
        "\n",
        "*  **Recommendations and Insights**: At the end of each visualization were  insightst that we got from that particular visualization which will be valuable for Airbnb hosts, travelers, property managers, and stakeholders. These insights may inform strategic decisions related to pricing optimization, listing enhancements, marketing strategies, and guest experience improvements and also for choosing the best property according to thier need by travelers.\n",
        "\n",
        "\n",
        "\n"
      ],
      "metadata": {
        "id": "MFCSDZ0o-FYJ"
      }
    },
    {
      "cell_type": "code",
      "execution_count": null,
      "metadata": {
        "id": "dHaRJ4Wd-Avt"
      },
      "outputs": [],
      "source": []
    },
    {
      "cell_type": "code",
      "source": [],
      "metadata": {
        "id": "0Y2fam2_-vFl"
      },
      "execution_count": null,
      "outputs": []
    }
  ]
}